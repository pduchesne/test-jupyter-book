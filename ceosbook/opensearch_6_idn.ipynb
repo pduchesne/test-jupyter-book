{
 "cells": [
  {
   "attachments": {},
   "cell_type": "markdown",
   "id": "d99fea47",
   "metadata": {},
   "source": [
    "# Use Case - Collection Search (IDN)\n",
    "\n",
    "This chapter provides a comprehensive and detailed process about how to implement a WGISS\n",
    "OpenSearch client, which includes how to retrieve the OSDD for the collection of interest, and\n",
    "how to build an OpenSearch request. "
   ]
  },
  {
   "cell_type": "markdown",
   "id": "10402a9a",
   "metadata": {},
   "source": [
    "## 6.1 IDN Systems\n",
    "\n",
    "TBD"
   ]
  },
  {
   "cell_type": "markdown",
   "id": "766f19de",
   "metadata": {},
   "source": [
    "## 6.2 Retrieve Collections via IDN OpenSearch\n",
    "\n",
    "TBD"
   ]
  },
  {
   "cell_type": "markdown",
   "id": "08becdcf",
   "metadata": {},
   "source": [
    "## 6.3 Available Collection Search Criteria\n",
    "\n",
    "TBD"
   ]
  }
 ],
 "metadata": {
  "description": "This notebook explains the use of the OpenSearch interface with Atom response format to access collection and granule metadata according to the two-step mechanism recommended by CEOS Best Practices. It can be used with the ESA EO-CAT and CEOS FedEO catalogue endpoints.",
  "kernelspec": {
   "display_name": "Python 3.8.3 64-bit",
   "language": "python",
   "name": "python3"
  },
  "language_info": {
   "codemirror_mode": {
    "name": "ipython",
    "version": 3
   },
   "file_extension": ".py",
   "mimetype": "text/x-python",
   "name": "python",
   "nbconvert_exporter": "python",
   "pygments_lexer": "ipython3",
   "version": "3.7.6"
  },
  "potentialAction": [
   {
    "@type": "InteractAction",
    "name": "Launch Binder",
    "target": "https://mybinder.org/v2/gh/eovoc/eo-books/main?urlpath=tree/docs/opensearch.ipynb"
   },
   {
    "@type": "InteractAction",
    "name": "Open in Google Colab",
    "target": "https://colab.research.google.com/github/eovoc/eo-books/blob/main/docs/opensearch.ipynb"
   }
  ],
  "tags": {
   "tags": [
    "EOCAT",
    "FedEO",
    "OpenSearch",
    "Data Access/Retrieval",
    "Metadata Handling",
    "Service Discovery",
    "Data Discovery",
    "CDA",
    "CEOS",
    "OGC",
    "ESA"
   ]
  },
  "title": "OpenSearch with Atom",
  "vscode": {
   "interpreter": {
    "hash": "3cbec2c4190cd05a5825fc54a935c704bfdcadcbc05924929a7092025ed22d84"
   }
  }
 },
 "nbformat": 4,
 "nbformat_minor": 5
}
